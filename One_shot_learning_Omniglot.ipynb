{
  "nbformat": 4,
  "nbformat_minor": 0,
  "metadata": {
    "colab": {
      "name": "One-shot learning- Omniglot",
      "provenance": [],
      "collapsed_sections": [
        "g8Vppu7kKRwr",
        "QpQL3NTN1sBV",
        "OrDuJ8_FJKdK",
        "S_0aTI01kIcZ"
      ],
      "machine_shape": "hm",
      "include_colab_link": true
    },
    "kernelspec": {
      "name": "python3",
      "display_name": "Python 3"
    },
    "accelerator": "GPU",
    "widgets": {
      "application/vnd.jupyter.widget-state+json": {
        "9de8e1e714094abea87ad07dc0d071d2": {
          "model_module": "@jupyter-widgets/controls",
          "model_name": "HBoxModel",
          "model_module_version": "1.5.0",
          "state": {
            "_view_name": "HBoxView",
            "_dom_classes": [],
            "_model_name": "HBoxModel",
            "_view_module": "@jupyter-widgets/controls",
            "_model_module_version": "1.5.0",
            "_view_count": null,
            "_view_module_version": "1.5.0",
            "box_style": "",
            "layout": "IPY_MODEL_1e546c26012c4069b147675fc0e59584",
            "_model_module": "@jupyter-widgets/controls",
            "children": [
              "IPY_MODEL_9f6e015ce60f41d3b032d9d0dad03d80",
              "IPY_MODEL_ab8b8bcc20d143dc9a6c85104107995a",
              "IPY_MODEL_f6672ae5b6124256ae5623f48b8590c4"
            ]
          }
        },
        "1e546c26012c4069b147675fc0e59584": {
          "model_module": "@jupyter-widgets/base",
          "model_name": "LayoutModel",
          "model_module_version": "1.2.0",
          "state": {
            "_view_name": "LayoutView",
            "grid_template_rows": null,
            "right": null,
            "justify_content": null,
            "_view_module": "@jupyter-widgets/base",
            "overflow": null,
            "_model_module_version": "1.2.0",
            "_view_count": null,
            "flex_flow": null,
            "width": null,
            "min_width": null,
            "border": null,
            "align_items": null,
            "bottom": null,
            "_model_module": "@jupyter-widgets/base",
            "top": null,
            "grid_column": null,
            "overflow_y": null,
            "overflow_x": null,
            "grid_auto_flow": null,
            "grid_area": null,
            "grid_template_columns": null,
            "flex": null,
            "_model_name": "LayoutModel",
            "justify_items": null,
            "grid_row": null,
            "max_height": null,
            "align_content": null,
            "visibility": null,
            "align_self": null,
            "height": null,
            "min_height": null,
            "padding": null,
            "grid_auto_rows": null,
            "grid_gap": null,
            "max_width": null,
            "order": null,
            "_view_module_version": "1.2.0",
            "grid_template_areas": null,
            "object_position": null,
            "object_fit": null,
            "grid_auto_columns": null,
            "margin": null,
            "display": null,
            "left": null
          }
        },
        "9f6e015ce60f41d3b032d9d0dad03d80": {
          "model_module": "@jupyter-widgets/controls",
          "model_name": "HTMLModel",
          "model_module_version": "1.5.0",
          "state": {
            "_view_name": "HTMLView",
            "style": "IPY_MODEL_c41e0f530b194db0ae65a1c31e2bcb2f",
            "_dom_classes": [],
            "description": "",
            "_model_name": "HTMLModel",
            "placeholder": "​",
            "_view_module": "@jupyter-widgets/controls",
            "_model_module_version": "1.5.0",
            "value": "",
            "_view_count": null,
            "_view_module_version": "1.5.0",
            "description_tooltip": null,
            "_model_module": "@jupyter-widgets/controls",
            "layout": "IPY_MODEL_98494fb3e6f44909aa9189cd8b7108a5"
          }
        },
        "ab8b8bcc20d143dc9a6c85104107995a": {
          "model_module": "@jupyter-widgets/controls",
          "model_name": "FloatProgressModel",
          "model_module_version": "1.5.0",
          "state": {
            "_view_name": "ProgressView",
            "style": "IPY_MODEL_836e234ebaa0455990b59131def39b50",
            "_dom_classes": [],
            "description": "",
            "_model_name": "FloatProgressModel",
            "bar_style": "success",
            "max": 9464212,
            "_view_module": "@jupyter-widgets/controls",
            "_model_module_version": "1.5.0",
            "value": 9464212,
            "_view_count": null,
            "_view_module_version": "1.5.0",
            "orientation": "horizontal",
            "min": 0,
            "description_tooltip": null,
            "_model_module": "@jupyter-widgets/controls",
            "layout": "IPY_MODEL_a7fc2c32a7cf4cb4a489053dfedbf08c"
          }
        },
        "f6672ae5b6124256ae5623f48b8590c4": {
          "model_module": "@jupyter-widgets/controls",
          "model_name": "HTMLModel",
          "model_module_version": "1.5.0",
          "state": {
            "_view_name": "HTMLView",
            "style": "IPY_MODEL_a26c97a82de8417a825e1d763f357c6c",
            "_dom_classes": [],
            "description": "",
            "_model_name": "HTMLModel",
            "placeholder": "​",
            "_view_module": "@jupyter-widgets/controls",
            "_model_module_version": "1.5.0",
            "value": " 9464832/? [00:00&lt;00:00, 23192018.59it/s]",
            "_view_count": null,
            "_view_module_version": "1.5.0",
            "description_tooltip": null,
            "_model_module": "@jupyter-widgets/controls",
            "layout": "IPY_MODEL_308762e6ff014c6eb3a5a0729201ee81"
          }
        },
        "c41e0f530b194db0ae65a1c31e2bcb2f": {
          "model_module": "@jupyter-widgets/controls",
          "model_name": "DescriptionStyleModel",
          "model_module_version": "1.5.0",
          "state": {
            "_view_name": "StyleView",
            "_model_name": "DescriptionStyleModel",
            "description_width": "",
            "_view_module": "@jupyter-widgets/base",
            "_model_module_version": "1.5.0",
            "_view_count": null,
            "_view_module_version": "1.2.0",
            "_model_module": "@jupyter-widgets/controls"
          }
        },
        "98494fb3e6f44909aa9189cd8b7108a5": {
          "model_module": "@jupyter-widgets/base",
          "model_name": "LayoutModel",
          "model_module_version": "1.2.0",
          "state": {
            "_view_name": "LayoutView",
            "grid_template_rows": null,
            "right": null,
            "justify_content": null,
            "_view_module": "@jupyter-widgets/base",
            "overflow": null,
            "_model_module_version": "1.2.0",
            "_view_count": null,
            "flex_flow": null,
            "width": null,
            "min_width": null,
            "border": null,
            "align_items": null,
            "bottom": null,
            "_model_module": "@jupyter-widgets/base",
            "top": null,
            "grid_column": null,
            "overflow_y": null,
            "overflow_x": null,
            "grid_auto_flow": null,
            "grid_area": null,
            "grid_template_columns": null,
            "flex": null,
            "_model_name": "LayoutModel",
            "justify_items": null,
            "grid_row": null,
            "max_height": null,
            "align_content": null,
            "visibility": null,
            "align_self": null,
            "height": null,
            "min_height": null,
            "padding": null,
            "grid_auto_rows": null,
            "grid_gap": null,
            "max_width": null,
            "order": null,
            "_view_module_version": "1.2.0",
            "grid_template_areas": null,
            "object_position": null,
            "object_fit": null,
            "grid_auto_columns": null,
            "margin": null,
            "display": null,
            "left": null
          }
        },
        "836e234ebaa0455990b59131def39b50": {
          "model_module": "@jupyter-widgets/controls",
          "model_name": "ProgressStyleModel",
          "model_module_version": "1.5.0",
          "state": {
            "_view_name": "StyleView",
            "_model_name": "ProgressStyleModel",
            "description_width": "",
            "_view_module": "@jupyter-widgets/base",
            "_model_module_version": "1.5.0",
            "_view_count": null,
            "_view_module_version": "1.2.0",
            "bar_color": null,
            "_model_module": "@jupyter-widgets/controls"
          }
        },
        "a7fc2c32a7cf4cb4a489053dfedbf08c": {
          "model_module": "@jupyter-widgets/base",
          "model_name": "LayoutModel",
          "model_module_version": "1.2.0",
          "state": {
            "_view_name": "LayoutView",
            "grid_template_rows": null,
            "right": null,
            "justify_content": null,
            "_view_module": "@jupyter-widgets/base",
            "overflow": null,
            "_model_module_version": "1.2.0",
            "_view_count": null,
            "flex_flow": null,
            "width": null,
            "min_width": null,
            "border": null,
            "align_items": null,
            "bottom": null,
            "_model_module": "@jupyter-widgets/base",
            "top": null,
            "grid_column": null,
            "overflow_y": null,
            "overflow_x": null,
            "grid_auto_flow": null,
            "grid_area": null,
            "grid_template_columns": null,
            "flex": null,
            "_model_name": "LayoutModel",
            "justify_items": null,
            "grid_row": null,
            "max_height": null,
            "align_content": null,
            "visibility": null,
            "align_self": null,
            "height": null,
            "min_height": null,
            "padding": null,
            "grid_auto_rows": null,
            "grid_gap": null,
            "max_width": null,
            "order": null,
            "_view_module_version": "1.2.0",
            "grid_template_areas": null,
            "object_position": null,
            "object_fit": null,
            "grid_auto_columns": null,
            "margin": null,
            "display": null,
            "left": null
          }
        },
        "a26c97a82de8417a825e1d763f357c6c": {
          "model_module": "@jupyter-widgets/controls",
          "model_name": "DescriptionStyleModel",
          "model_module_version": "1.5.0",
          "state": {
            "_view_name": "StyleView",
            "_model_name": "DescriptionStyleModel",
            "description_width": "",
            "_view_module": "@jupyter-widgets/base",
            "_model_module_version": "1.5.0",
            "_view_count": null,
            "_view_module_version": "1.2.0",
            "_model_module": "@jupyter-widgets/controls"
          }
        },
        "308762e6ff014c6eb3a5a0729201ee81": {
          "model_module": "@jupyter-widgets/base",
          "model_name": "LayoutModel",
          "model_module_version": "1.2.0",
          "state": {
            "_view_name": "LayoutView",
            "grid_template_rows": null,
            "right": null,
            "justify_content": null,
            "_view_module": "@jupyter-widgets/base",
            "overflow": null,
            "_model_module_version": "1.2.0",
            "_view_count": null,
            "flex_flow": null,
            "width": null,
            "min_width": null,
            "border": null,
            "align_items": null,
            "bottom": null,
            "_model_module": "@jupyter-widgets/base",
            "top": null,
            "grid_column": null,
            "overflow_y": null,
            "overflow_x": null,
            "grid_auto_flow": null,
            "grid_area": null,
            "grid_template_columns": null,
            "flex": null,
            "_model_name": "LayoutModel",
            "justify_items": null,
            "grid_row": null,
            "max_height": null,
            "align_content": null,
            "visibility": null,
            "align_self": null,
            "height": null,
            "min_height": null,
            "padding": null,
            "grid_auto_rows": null,
            "grid_gap": null,
            "max_width": null,
            "order": null,
            "_view_module_version": "1.2.0",
            "grid_template_areas": null,
            "object_position": null,
            "object_fit": null,
            "grid_auto_columns": null,
            "margin": null,
            "display": null,
            "left": null
          }
        },
        "45422e276562415b9df718a0efda732e": {
          "model_module": "@jupyter-widgets/controls",
          "model_name": "HBoxModel",
          "model_module_version": "1.5.0",
          "state": {
            "_view_name": "HBoxView",
            "_dom_classes": [],
            "_model_name": "HBoxModel",
            "_view_module": "@jupyter-widgets/controls",
            "_model_module_version": "1.5.0",
            "_view_count": null,
            "_view_module_version": "1.5.0",
            "box_style": "",
            "layout": "IPY_MODEL_f9739b3b86e7495389253b4d371cdaaa",
            "_model_module": "@jupyter-widgets/controls",
            "children": [
              "IPY_MODEL_ebafa8146495453da9c02801b115bf06",
              "IPY_MODEL_3078c01734464e87b6753f82a848d5d2",
              "IPY_MODEL_ebee8d196d52439a971d9a20ff8ee76a"
            ]
          }
        },
        "f9739b3b86e7495389253b4d371cdaaa": {
          "model_module": "@jupyter-widgets/base",
          "model_name": "LayoutModel",
          "model_module_version": "1.2.0",
          "state": {
            "_view_name": "LayoutView",
            "grid_template_rows": null,
            "right": null,
            "justify_content": null,
            "_view_module": "@jupyter-widgets/base",
            "overflow": null,
            "_model_module_version": "1.2.0",
            "_view_count": null,
            "flex_flow": null,
            "width": null,
            "min_width": null,
            "border": null,
            "align_items": null,
            "bottom": null,
            "_model_module": "@jupyter-widgets/base",
            "top": null,
            "grid_column": null,
            "overflow_y": null,
            "overflow_x": null,
            "grid_auto_flow": null,
            "grid_area": null,
            "grid_template_columns": null,
            "flex": null,
            "_model_name": "LayoutModel",
            "justify_items": null,
            "grid_row": null,
            "max_height": null,
            "align_content": null,
            "visibility": null,
            "align_self": null,
            "height": null,
            "min_height": null,
            "padding": null,
            "grid_auto_rows": null,
            "grid_gap": null,
            "max_width": null,
            "order": null,
            "_view_module_version": "1.2.0",
            "grid_template_areas": null,
            "object_position": null,
            "object_fit": null,
            "grid_auto_columns": null,
            "margin": null,
            "display": null,
            "left": null
          }
        },
        "ebafa8146495453da9c02801b115bf06": {
          "model_module": "@jupyter-widgets/controls",
          "model_name": "HTMLModel",
          "model_module_version": "1.5.0",
          "state": {
            "_view_name": "HTMLView",
            "style": "IPY_MODEL_e3bcc26607ea4523afa7bf6bb23470d0",
            "_dom_classes": [],
            "description": "",
            "_model_name": "HTMLModel",
            "placeholder": "​",
            "_view_module": "@jupyter-widgets/controls",
            "_model_module_version": "1.5.0",
            "value": "",
            "_view_count": null,
            "_view_module_version": "1.5.0",
            "description_tooltip": null,
            "_model_module": "@jupyter-widgets/controls",
            "layout": "IPY_MODEL_096581bf1f454b148588c83b7af03905"
          }
        },
        "3078c01734464e87b6753f82a848d5d2": {
          "model_module": "@jupyter-widgets/controls",
          "model_name": "FloatProgressModel",
          "model_module_version": "1.5.0",
          "state": {
            "_view_name": "ProgressView",
            "style": "IPY_MODEL_f8bec4e1132e45faa4c4f33efa7a4156",
            "_dom_classes": [],
            "description": "",
            "_model_name": "FloatProgressModel",
            "bar_style": "success",
            "max": 6462886,
            "_view_module": "@jupyter-widgets/controls",
            "_model_module_version": "1.5.0",
            "value": 6462886,
            "_view_count": null,
            "_view_module_version": "1.5.0",
            "orientation": "horizontal",
            "min": 0,
            "description_tooltip": null,
            "_model_module": "@jupyter-widgets/controls",
            "layout": "IPY_MODEL_21df48ace40b44f1ad0a4cde08771335"
          }
        },
        "ebee8d196d52439a971d9a20ff8ee76a": {
          "model_module": "@jupyter-widgets/controls",
          "model_name": "HTMLModel",
          "model_module_version": "1.5.0",
          "state": {
            "_view_name": "HTMLView",
            "style": "IPY_MODEL_4ece6357a9ee4e6cb4ced7e0dfcc49c3",
            "_dom_classes": [],
            "description": "",
            "_model_name": "HTMLModel",
            "placeholder": "​",
            "_view_module": "@jupyter-widgets/controls",
            "_model_module_version": "1.5.0",
            "value": " 6463488/? [00:00&lt;00:00, 26445090.37it/s]",
            "_view_count": null,
            "_view_module_version": "1.5.0",
            "description_tooltip": null,
            "_model_module": "@jupyter-widgets/controls",
            "layout": "IPY_MODEL_f9200e7c5cfd4eddac76cea159b22a42"
          }
        },
        "e3bcc26607ea4523afa7bf6bb23470d0": {
          "model_module": "@jupyter-widgets/controls",
          "model_name": "DescriptionStyleModel",
          "model_module_version": "1.5.0",
          "state": {
            "_view_name": "StyleView",
            "_model_name": "DescriptionStyleModel",
            "description_width": "",
            "_view_module": "@jupyter-widgets/base",
            "_model_module_version": "1.5.0",
            "_view_count": null,
            "_view_module_version": "1.2.0",
            "_model_module": "@jupyter-widgets/controls"
          }
        },
        "096581bf1f454b148588c83b7af03905": {
          "model_module": "@jupyter-widgets/base",
          "model_name": "LayoutModel",
          "model_module_version": "1.2.0",
          "state": {
            "_view_name": "LayoutView",
            "grid_template_rows": null,
            "right": null,
            "justify_content": null,
            "_view_module": "@jupyter-widgets/base",
            "overflow": null,
            "_model_module_version": "1.2.0",
            "_view_count": null,
            "flex_flow": null,
            "width": null,
            "min_width": null,
            "border": null,
            "align_items": null,
            "bottom": null,
            "_model_module": "@jupyter-widgets/base",
            "top": null,
            "grid_column": null,
            "overflow_y": null,
            "overflow_x": null,
            "grid_auto_flow": null,
            "grid_area": null,
            "grid_template_columns": null,
            "flex": null,
            "_model_name": "LayoutModel",
            "justify_items": null,
            "grid_row": null,
            "max_height": null,
            "align_content": null,
            "visibility": null,
            "align_self": null,
            "height": null,
            "min_height": null,
            "padding": null,
            "grid_auto_rows": null,
            "grid_gap": null,
            "max_width": null,
            "order": null,
            "_view_module_version": "1.2.0",
            "grid_template_areas": null,
            "object_position": null,
            "object_fit": null,
            "grid_auto_columns": null,
            "margin": null,
            "display": null,
            "left": null
          }
        },
        "f8bec4e1132e45faa4c4f33efa7a4156": {
          "model_module": "@jupyter-widgets/controls",
          "model_name": "ProgressStyleModel",
          "model_module_version": "1.5.0",
          "state": {
            "_view_name": "StyleView",
            "_model_name": "ProgressStyleModel",
            "description_width": "",
            "_view_module": "@jupyter-widgets/base",
            "_model_module_version": "1.5.0",
            "_view_count": null,
            "_view_module_version": "1.2.0",
            "bar_color": null,
            "_model_module": "@jupyter-widgets/controls"
          }
        },
        "21df48ace40b44f1ad0a4cde08771335": {
          "model_module": "@jupyter-widgets/base",
          "model_name": "LayoutModel",
          "model_module_version": "1.2.0",
          "state": {
            "_view_name": "LayoutView",
            "grid_template_rows": null,
            "right": null,
            "justify_content": null,
            "_view_module": "@jupyter-widgets/base",
            "overflow": null,
            "_model_module_version": "1.2.0",
            "_view_count": null,
            "flex_flow": null,
            "width": null,
            "min_width": null,
            "border": null,
            "align_items": null,
            "bottom": null,
            "_model_module": "@jupyter-widgets/base",
            "top": null,
            "grid_column": null,
            "overflow_y": null,
            "overflow_x": null,
            "grid_auto_flow": null,
            "grid_area": null,
            "grid_template_columns": null,
            "flex": null,
            "_model_name": "LayoutModel",
            "justify_items": null,
            "grid_row": null,
            "max_height": null,
            "align_content": null,
            "visibility": null,
            "align_self": null,
            "height": null,
            "min_height": null,
            "padding": null,
            "grid_auto_rows": null,
            "grid_gap": null,
            "max_width": null,
            "order": null,
            "_view_module_version": "1.2.0",
            "grid_template_areas": null,
            "object_position": null,
            "object_fit": null,
            "grid_auto_columns": null,
            "margin": null,
            "display": null,
            "left": null
          }
        },
        "4ece6357a9ee4e6cb4ced7e0dfcc49c3": {
          "model_module": "@jupyter-widgets/controls",
          "model_name": "DescriptionStyleModel",
          "model_module_version": "1.5.0",
          "state": {
            "_view_name": "StyleView",
            "_model_name": "DescriptionStyleModel",
            "description_width": "",
            "_view_module": "@jupyter-widgets/base",
            "_model_module_version": "1.5.0",
            "_view_count": null,
            "_view_module_version": "1.2.0",
            "_model_module": "@jupyter-widgets/controls"
          }
        },
        "f9200e7c5cfd4eddac76cea159b22a42": {
          "model_module": "@jupyter-widgets/base",
          "model_name": "LayoutModel",
          "model_module_version": "1.2.0",
          "state": {
            "_view_name": "LayoutView",
            "grid_template_rows": null,
            "right": null,
            "justify_content": null,
            "_view_module": "@jupyter-widgets/base",
            "overflow": null,
            "_model_module_version": "1.2.0",
            "_view_count": null,
            "flex_flow": null,
            "width": null,
            "min_width": null,
            "border": null,
            "align_items": null,
            "bottom": null,
            "_model_module": "@jupyter-widgets/base",
            "top": null,
            "grid_column": null,
            "overflow_y": null,
            "overflow_x": null,
            "grid_auto_flow": null,
            "grid_area": null,
            "grid_template_columns": null,
            "flex": null,
            "_model_name": "LayoutModel",
            "justify_items": null,
            "grid_row": null,
            "max_height": null,
            "align_content": null,
            "visibility": null,
            "align_self": null,
            "height": null,
            "min_height": null,
            "padding": null,
            "grid_auto_rows": null,
            "grid_gap": null,
            "max_width": null,
            "order": null,
            "_view_module_version": "1.2.0",
            "grid_template_areas": null,
            "object_position": null,
            "object_fit": null,
            "grid_auto_columns": null,
            "margin": null,
            "display": null,
            "left": null
          }
        }
      }
    }
  },
  "cells": [
    {
      "cell_type": "markdown",
      "metadata": {
        "id": "view-in-github",
        "colab_type": "text"
      },
      "source": [
        "<a href=\"https://colab.research.google.com/github/kungfumas/deteksi_tanah/blob/main/One_shot_learning_Omniglot.ipynb\" target=\"_parent\"><img src=\"https://colab.research.google.com/assets/colab-badge.svg\" alt=\"Open In Colab\"/></a>"
      ]
    },
    {
      "cell_type": "code",
      "metadata": {
        "id": "xWKGvKjDHpmP",
        "colab": {
          "base_uri": "https://localhost:8080/"
        },
        "outputId": "93c523c3-472d-4260-a4f3-80bc8f0f636b"
      },
      "source": [
        "!nvidia-smi"
      ],
      "execution_count": 2,
      "outputs": [
        {
          "output_type": "stream",
          "name": "stdout",
          "text": [
            "Mon Jan 31 13:55:29 2022       \n",
            "+-----------------------------------------------------------------------------+\n",
            "| NVIDIA-SMI 495.46       Driver Version: 460.32.03    CUDA Version: 11.2     |\n",
            "|-------------------------------+----------------------+----------------------+\n",
            "| GPU  Name        Persistence-M| Bus-Id        Disp.A | Volatile Uncorr. ECC |\n",
            "| Fan  Temp  Perf  Pwr:Usage/Cap|         Memory-Usage | GPU-Util  Compute M. |\n",
            "|                               |                      |               MIG M. |\n",
            "|===============================+======================+======================|\n",
            "|   0  Tesla K80           Off  | 00000000:00:04.0 Off |                    0 |\n",
            "| N/A   53C    P8    30W / 149W |      0MiB / 11441MiB |      0%      Default |\n",
            "|                               |                      |                  N/A |\n",
            "+-------------------------------+----------------------+----------------------+\n",
            "                                                                               \n",
            "+-----------------------------------------------------------------------------+\n",
            "| Processes:                                                                  |\n",
            "|  GPU   GI   CI        PID   Type   Process name                  GPU Memory |\n",
            "|        ID   ID                                                   Usage      |\n",
            "|=============================================================================|\n",
            "|  No running processes found                                                 |\n",
            "+-----------------------------------------------------------------------------+\n"
          ]
        }
      ]
    },
    {
      "cell_type": "code",
      "metadata": {
        "colab": {
          "base_uri": "https://localhost:8080/"
        },
        "id": "p2mKLb6VSRNG",
        "outputId": "63551810-60b7-4e3c-e047-c5000e928a36"
      },
      "source": [
        "# Mount your google drive\n",
        "from google.colab import drive\n",
        "drive.mount('/content/drive')"
      ],
      "execution_count": 3,
      "outputs": [
        {
          "output_type": "stream",
          "name": "stdout",
          "text": [
            "Mounted at /content/drive\n"
          ]
        }
      ]
    },
    {
      "cell_type": "code",
      "metadata": {
        "id": "16o1iKYCMNwA"
      },
      "source": [
        "import torch\n",
        "import torch.nn as nn\n",
        "import torch.nn.functional as F\n",
        "from torch.utils.data import Dataset, DataLoader, random_split\n",
        "from torchvision import transforms, utils, datasets\n",
        "import torch.optim as optim\n",
        "\n",
        "import numpy as np\n",
        "from PIL import Image\n",
        "import os\n",
        "from tqdm import tqdm\n",
        "import random\n",
        "import matplotlib.pyplot as plt"
      ],
      "execution_count": 4,
      "outputs": []
    },
    {
      "cell_type": "code",
      "metadata": {
        "colab": {
          "base_uri": "https://localhost:8080/"
        },
        "id": "_rWPYW31YWNk",
        "outputId": "21d10dd2-3d1e-402e-bd66-f4bb097694d0"
      },
      "source": [
        "print(torch.__version__)"
      ],
      "execution_count": 5,
      "outputs": [
        {
          "output_type": "stream",
          "name": "stdout",
          "text": [
            "1.10.0+cu111\n"
          ]
        }
      ]
    },
    {
      "cell_type": "markdown",
      "metadata": {
        "id": "g8Vppu7kKRwr"
      },
      "source": [
        "# **Model**"
      ]
    },
    {
      "cell_type": "code",
      "metadata": {
        "id": "XATrJAOhNJas"
      },
      "source": [
        "# Model\n",
        "class Siamese_Net(nn.Module):\n",
        "  def __init__(self):\n",
        "    super(Siamese_Net,self).__init__()\n",
        "\n",
        "    self.conv1=nn.Conv2d(1,64,10)\n",
        "    self.conv2=nn.Conv2d(64,128,7)\n",
        "    self.conv3=nn.Conv2d(128,128,4)\n",
        "    self.conv4=nn.Conv2d(128,256,4)\n",
        "\n",
        "    self.Linear1=nn.Linear(9216,4096)\n",
        "    self.flatten=nn.Flatten()\n",
        "    self.Linear2=nn.Linear(4096,1)\n",
        "\n",
        "    self.relu=nn.ReLU()\n",
        "    self.maxP=nn.MaxPool2d(2)\n",
        "    self.sigm=nn.Sigmoid()\n",
        "\n",
        "    # self.initialize_weights()\n",
        "\n",
        "  def twin(self,x):\n",
        "\n",
        "    out=self.conv1(x)\n",
        "    out=self.relu(out)\n",
        "    out=self.maxP(out)\n",
        "\n",
        "    out=self.conv2(out)\n",
        "    out=self.relu(out)\n",
        "    out=self.maxP(out)\n",
        "\n",
        "    out=self.conv3(out)\n",
        "    out=self.relu(out)\n",
        "    out=self.maxP(out)\n",
        "\n",
        "    out=self.conv4(out)\n",
        "    out=self.relu(out)\n",
        "\n",
        "    # test=out.view(out.size()[0], -1)\n",
        "    out=self.flatten(out)\n",
        "    # print(test==out) ##result -> true\n",
        "\n",
        "    out=self.Linear1(out)\n",
        "    out=self.sigm(out)\n",
        "\n",
        "    return out\n",
        "\n",
        "  def forward(self,x1,x2):\n",
        "\n",
        "    x1_out=self.twin(x1)\n",
        "    x2_out=self.twin(x2)\n",
        "\n",
        "    # score= linear(distance between vectors)\n",
        "    score=self.Linear2(torch.abs(x1_out-x2_out))\n",
        "\n",
        "    # print(score)\n",
        "    \n",
        "    return score\n",
        "\n",
        "  def initialize_weights(self):\n",
        "    for m in self.modules():\n",
        "      if isinstance(m,nn.Conv2d):\n",
        "        nn.init.normal_(m.weight,0,1e-2)\n",
        "        nn.init.normal_(m.bias, 0.5, 1e-2)\n",
        "      if isinstance(m,nn.Linear):\n",
        "        nn.init.normal_(m.weight,0,2e-2)\n",
        "        nn.init.normal_(m.bias, 0.5, 1e-2)\n",
        "\n"
      ],
      "execution_count": 6,
      "outputs": []
    },
    {
      "cell_type": "code",
      "metadata": {
        "colab": {
          "base_uri": "https://localhost:8080/"
        },
        "id": "BfSlk9mUYTnz",
        "outputId": "373298de-b4a6-4cc1-9331-8350e1c223c9"
      },
      "source": [
        "#testing\n",
        "net=Siamese_Net()\n",
        "# print(net)\n",
        "dummyx1=torch.randn(64,1,105,105)\n",
        "dummyx2=torch.randn(64,1,105,105)\n",
        "o=net(dummyx1,dummyx2)\n",
        "print(o.shape)"
      ],
      "execution_count": 7,
      "outputs": [
        {
          "output_type": "stream",
          "name": "stdout",
          "text": [
            "torch.Size([64, 1])\n"
          ]
        }
      ]
    },
    {
      "cell_type": "markdown",
      "metadata": {
        "id": "QpQL3NTN1sBV"
      },
      "source": [
        "# **Omniglot Dataset**"
      ]
    },
    {
      "cell_type": "code",
      "metadata": {
        "colab": {
          "base_uri": "https://localhost:8080/",
          "referenced_widgets": [
            "9de8e1e714094abea87ad07dc0d071d2",
            "1e546c26012c4069b147675fc0e59584",
            "9f6e015ce60f41d3b032d9d0dad03d80",
            "ab8b8bcc20d143dc9a6c85104107995a",
            "f6672ae5b6124256ae5623f48b8590c4",
            "c41e0f530b194db0ae65a1c31e2bcb2f",
            "98494fb3e6f44909aa9189cd8b7108a5",
            "836e234ebaa0455990b59131def39b50",
            "a7fc2c32a7cf4cb4a489053dfedbf08c",
            "a26c97a82de8417a825e1d763f357c6c",
            "308762e6ff014c6eb3a5a0729201ee81",
            "45422e276562415b9df718a0efda732e",
            "f9739b3b86e7495389253b4d371cdaaa",
            "ebafa8146495453da9c02801b115bf06",
            "3078c01734464e87b6753f82a848d5d2",
            "ebee8d196d52439a971d9a20ff8ee76a",
            "e3bcc26607ea4523afa7bf6bb23470d0",
            "096581bf1f454b148588c83b7af03905",
            "f8bec4e1132e45faa4c4f33efa7a4156",
            "21df48ace40b44f1ad0a4cde08771335",
            "4ece6357a9ee4e6cb4ced7e0dfcc49c3",
            "f9200e7c5cfd4eddac76cea159b22a42"
          ],
          "height": 170
        },
        "id": "jdcAQouHqIT3",
        "outputId": "d77b26d2-2ae0-490e-bfc0-b22839913e3e"
      },
      "source": [
        "# download the dataset\n",
        "omni_train=datasets.Omniglot(root='/content', \n",
        "                       background= True,  \n",
        "                       download = True\n",
        "                       )\n",
        "\n",
        "omni_test=datasets.Omniglot(root='/content', \n",
        "                       background= False,  \n",
        "                       download = True\n",
        "                       )"
      ],
      "execution_count": 8,
      "outputs": [
        {
          "output_type": "stream",
          "name": "stdout",
          "text": [
            "Downloading https://raw.githubusercontent.com/brendenlake/omniglot/master/python/images_background.zip to /content/omniglot-py/images_background.zip\n"
          ]
        },
        {
          "output_type": "display_data",
          "data": {
            "application/vnd.jupyter.widget-view+json": {
              "model_id": "9de8e1e714094abea87ad07dc0d071d2",
              "version_minor": 0,
              "version_major": 2
            },
            "text/plain": [
              "  0%|          | 0/9464212 [00:00<?, ?it/s]"
            ]
          },
          "metadata": {}
        },
        {
          "output_type": "stream",
          "name": "stdout",
          "text": [
            "Extracting /content/omniglot-py/images_background.zip to /content/omniglot-py\n",
            "Downloading https://raw.githubusercontent.com/brendenlake/omniglot/master/python/images_evaluation.zip to /content/omniglot-py/images_evaluation.zip\n"
          ]
        },
        {
          "output_type": "display_data",
          "data": {
            "application/vnd.jupyter.widget-view+json": {
              "model_id": "45422e276562415b9df718a0efda732e",
              "version_minor": 0,
              "version_major": 2
            },
            "text/plain": [
              "  0%|          | 0/6462886 [00:00<?, ?it/s]"
            ]
          },
          "metadata": {}
        },
        {
          "output_type": "stream",
          "name": "stdout",
          "text": [
            "Extracting /content/omniglot-py/images_evaluation.zip to /content/omniglot-py\n"
          ]
        }
      ]
    },
    {
      "cell_type": "code",
      "metadata": {
        "id": "QXMNU4dOu6uu"
      },
      "source": [
        "# Omniglot dataset- didnt rename cause would have had to rename it everywhere\n",
        "class Face_Dataset(Dataset):\n",
        "  def __init__(self,root_dir, job='train',ways=10,transform=None):\n",
        "    super(Face_Dataset,self).__init__()\n",
        "    self.root_dir=root_dir\n",
        "    self.job=job\n",
        "    self.all_classes=os.listdir(root_dir)\n",
        "    self.num_classes=len(self.all_classes)\n",
        "    self.face_list, self.number_of_faces=self.get_char_list()\n",
        "    self.ways=ways\n",
        "    self.transform=transform\n",
        "    print(self.all_classes)\n",
        "\n",
        "  def __len__(self):\n",
        "    return self.number_of_faces\n",
        "\n",
        "  def __getitem__(self,idx):\n",
        "    if self.job=='train':\n",
        "      is_Same=1\n",
        "      # Same person if even\n",
        "      if idx%2==0:\n",
        "        path_img_1,path_img_2,_=self.get_same()\n",
        "      # different people \n",
        "      else:\n",
        "        is_Same=0\n",
        "        path_img_1,path_img_2=self.get_different()\n",
        "\n",
        "      img1=Image.open(path_img_1).convert('L')\n",
        "      img2=Image.open(path_img_2).convert('L')\n",
        "      \n",
        "      if self.transform:\n",
        "        img1=self.transform(img1)\n",
        "        img2=self.transform(img2)\n",
        "\n",
        "      return img1,img2,torch.tensor([is_Same], dtype=torch.float32)\n",
        "\n",
        "    else:\n",
        "      img_list=[]\n",
        "      ways=self.ways\n",
        "\n",
        "      # grab two images from the same class\n",
        "      path_img_1,path_img_2,id_to_avoid=self.get_same()\n",
        "      img_list+=[path_img_1,path_img_2]\n",
        "\n",
        "      ways=(ways-2)//2\n",
        "\n",
        "      # and remaining from different classes\n",
        "      for i in range(ways):\n",
        "        img_list+=self.get_different(id_to_avoid)\n",
        "\n",
        "      for i in range(len(img_list)):\n",
        "        img=Image.open(img_list[i]).convert('L')\n",
        "        if self.transform:\n",
        "          img=self.transform(img)\n",
        "        img_list[i]=img\n",
        "\n",
        "      img_list_tensor=torch.stack(img_list)\n",
        "      return img_list_tensor\n",
        "\n",
        "  def get_char_list(self) -> (dict, int):\n",
        "      a_list,n_letters={},0\n",
        "      for idx, alpha in enumerate(self.all_classes):\n",
        "        a_list[idx]=[]\n",
        "        for char in os.listdir(os.path.join(self.root_dir,alpha)):\n",
        "          l_list=[]\n",
        "          for letter in os.listdir(os.path.join(self.root_dir,alpha,char)):\n",
        "            l_list.append(os.path.join(self.root_dir,alpha,char,letter))\n",
        "            n_letters+=1\n",
        "          a_list[idx].append(l_list)\n",
        "      return a_list,n_letters\n",
        "\n",
        "  def get_same(self) -> (str, str, int):\n",
        "    alpha_id=random.randint(0,self.num_classes-1)\n",
        "    char_id=random.randint(0,len(self.face_list[alpha_id])-1)\n",
        "    path_img_1=random.choice(self.face_list[alpha_id][char_id])\n",
        "    path_img_2=random.choice(self.face_list[alpha_id][char_id])\n",
        "    return path_img_1,path_img_2,char_id\n",
        "\n",
        "  def get_different(self, avoid=None)-> (str, str):\n",
        "\n",
        "    alpha_id_1=random.randint(0,self.num_classes-1)\n",
        "    char_id_1=random.randint(0,len(self.face_list[alpha_id_1])-1)\n",
        "    while char_id_1==avoid:\n",
        "      char_id_1=random.randint(0,len(self.face_list[alpha_id_1])-1)\n",
        "\n",
        "    alpha_id_2=random.randint(0,self.num_classes-1)\n",
        "    char_id_2=random.randint(0,len(self.face_list[alpha_id_2])-1)\n",
        "    while char_id_2==char_id_1 or char_id_2==avoid:\n",
        "      char_id_2=random.randint(0,len(self.face_list[alpha_id_2])-1)\n",
        "\n",
        "    path_img_1=random.choice(self.face_list[alpha_id_1][char_id_1])\n",
        "    path_img_2=random.choice(self.face_list[alpha_id_2][char_id_2])\n",
        "    return path_img_1,path_img_2\n",
        "      "
      ],
      "execution_count": 9,
      "outputs": []
    },
    {
      "cell_type": "code",
      "metadata": {
        "colab": {
          "base_uri": "https://localhost:8080/"
        },
        "id": "N5G3LGAYK_aX",
        "outputId": "4e5804b4-bea4-4c65-c349-2b42aaa70a90"
      },
      "source": [
        "a=torch.randn((64,3,122,450),dtype=torch.float32)\n",
        "b=torch.randn((64,3,122,450),dtype=torch.float32)\n",
        "c=torch.randn((64,3,122,450),dtype=torch.float32)\n",
        "l=[a,b,c]\n",
        "lt=torch.stack(l)\n",
        "print(lt.shape)\n",
        "print(lt[0,:].shape)"
      ],
      "execution_count": 10,
      "outputs": [
        {
          "output_type": "stream",
          "name": "stdout",
          "text": [
            "torch.Size([3, 64, 3, 122, 450])\n",
            "torch.Size([64, 3, 122, 450])\n"
          ]
        }
      ]
    },
    {
      "cell_type": "code",
      "metadata": {
        "id": "59Qc59pc2FDS"
      },
      "source": [
        "# omniglot root\n",
        "train_root='/content/omniglot-py/images_background'\n",
        "val_root='/content/omniglot-py/images_evaluation'\n",
        "batch_size=16\n",
        "ways=10"
      ],
      "execution_count": 11,
      "outputs": []
    },
    {
      "cell_type": "code",
      "metadata": {
        "colab": {
          "base_uri": "https://localhost:8080/"
        },
        "id": "G3ckh_gl9TpM",
        "outputId": "ff6a8f3a-b432-4136-fc88-685eba6a8a5d"
      },
      "source": [
        "# Omniglot Calculating the mean and std of the data\n",
        "\n",
        "def find_mean_std(datasets,batch_s=1):\n",
        "  \n",
        "  means_stds=[]\n",
        "  for dataset in datasets:\n",
        "    to_norm_loader=DataLoader(dataset=dataset, batch_size=batch_s)\n",
        "    print('Total number of samples: ', len(dataset))\n",
        "\n",
        "    # #run for 1 batch \n",
        "    # data_iter=iter(to_norm_loader)\n",
        "    # img,_,__=data_iter.next()\n",
        "    # print(img.shape)\n",
        "    \n",
        "    channels_sum, channels_squared_sum, num_batches=0, 0, 0\n",
        "    for img,_,__ in to_norm_loader:\n",
        "      # print(img.shape)#[batch,C,H,W]\n",
        "      channels_sum+=torch.mean(img,dim=[0,2,3])\n",
        "      channels_squared_sum+=torch.mean(img**2,dim=[0,2,3])\n",
        "      num_batches+=1\n",
        "    \n",
        "    mean=channels_sum/num_batches\n",
        "    std=(channels_squared_sum/num_batches- mean**2)**0.5\n",
        "    means_stds.append(mean)\n",
        "    means_stds.append(std)\n",
        "  return means_stds\n",
        "\n",
        "to_be_norm_dataset=Face_Dataset(train_root, transform=transforms.Compose([\n",
        "                                                             transforms.Resize((105,105)),\n",
        "                                                             transforms.ToTensor()\n",
        "                                           ]))\n",
        "\n",
        "to_be_norm_dataset_val=Face_Dataset(val_root, transform=transforms.Compose([\n",
        "                                                             transforms.Resize((105,105)),\n",
        "                                                             transforms.ToTensor()\n",
        "                                           ]))\n",
        "\n",
        "mean, std,mean_val,std_val= find_mean_std([to_be_norm_dataset, to_be_norm_dataset_val], batch_s=batch_size)\n",
        "\n",
        "print(f'mean: {mean.item()}    std: {std.item()}     val mean: {mean_val.item()}    val std: {std_val.item()}')"
      ],
      "execution_count": 12,
      "outputs": [
        {
          "output_type": "stream",
          "name": "stdout",
          "text": [
            "['Latin', 'Blackfoot_(Canadian_Aboriginal_Syllabics)', 'Balinese', 'Korean', 'Anglo-Saxon_Futhorc', 'Futurama', 'Asomtavruli_(Georgian)', 'N_Ko', 'Early_Aramaic', 'Gujarati', 'Greek', 'Tifinagh', 'Grantha', 'Japanese_(hiragana)', 'Sanskrit', 'Armenian', 'Malay_(Jawi_-_Arabic)', 'Mkhedruli_(Georgian)', 'Arcadian', 'Ojibwe_(Canadian_Aboriginal_Syllabics)', 'Japanese_(katakana)', 'Cyrillic', 'Tagalog', 'Syriac_(Estrangelo)', 'Inuktitut_(Canadian_Aboriginal_Syllabics)', 'Bengali', 'Braille', 'Alphabet_of_the_Magi', 'Burmese_(Myanmar)', 'Hebrew']\n",
            "['Malayalam', 'Gurmukhi', 'Atlantean', 'Glagolitic', 'Atemayar_Qelisayer', 'Sylheti', 'Aurek-Besh', 'Tengwar', 'Oriya', 'Old_Church_Slavonic_(Cyrillic)', 'Kannada', 'ULOG', 'Avesta', 'Tibetan', 'Mongolian', 'Keble', 'Ge_ez', 'Manipuri', 'Syriac_(Serto)', 'Angelic']\n",
            "Total number of samples:  19280\n",
            "Total number of samples:  13180\n",
            "mean: 0.9247356057167053    std: 0.26381751894950867     val mean: 0.9174930453300476    val std: 0.2751355469226837\n"
          ]
        }
      ]
    },
    {
      "cell_type": "code",
      "metadata": {
        "colab": {
          "base_uri": "https://localhost:8080/"
        },
        "id": "_yOiFlpFCxwt",
        "outputId": "e5878b1d-a368-4d58-b4b1-46eca157c9a9"
      },
      "source": [
        "# prepare datasets(OMNIGLOT)\n",
        "\n",
        "transform=transforms.Compose([\n",
        "                              transforms.Resize((105,105)),\n",
        "                              transforms.RandomAffine(30,shear=0.2),\n",
        "                              transforms.ToTensor(),\n",
        "                              transforms.Normalize([mean.item()],[std.item()]),\n",
        "])\n",
        "# dataset=Face_Dataset(root,transform=transform)\n",
        "dataset_train=Face_Dataset(train_root, transform=transform)\n",
        "dataset_val=Face_Dataset(val_root,job='val', ways=ways, transform=transforms.Compose([transforms.Resize((105,105)),\n",
        "                                                            transforms.ToTensor(),\n",
        "                                                            transforms.Normalize([mean_val.item()],[std_val.item()])\n",
        "                                                            ])\n",
        ")\n",
        "\n",
        "dataloader_train=DataLoader(dataset=dataset_train, batch_size=batch_size)\n",
        "dataloader_val=DataLoader(dataset=dataset_val, batch_size=batch_size)\n"
      ],
      "execution_count": 13,
      "outputs": [
        {
          "output_type": "stream",
          "name": "stdout",
          "text": [
            "['Latin', 'Blackfoot_(Canadian_Aboriginal_Syllabics)', 'Balinese', 'Korean', 'Anglo-Saxon_Futhorc', 'Futurama', 'Asomtavruli_(Georgian)', 'N_Ko', 'Early_Aramaic', 'Gujarati', 'Greek', 'Tifinagh', 'Grantha', 'Japanese_(hiragana)', 'Sanskrit', 'Armenian', 'Malay_(Jawi_-_Arabic)', 'Mkhedruli_(Georgian)', 'Arcadian', 'Ojibwe_(Canadian_Aboriginal_Syllabics)', 'Japanese_(katakana)', 'Cyrillic', 'Tagalog', 'Syriac_(Estrangelo)', 'Inuktitut_(Canadian_Aboriginal_Syllabics)', 'Bengali', 'Braille', 'Alphabet_of_the_Magi', 'Burmese_(Myanmar)', 'Hebrew']\n",
            "['Malayalam', 'Gurmukhi', 'Atlantean', 'Glagolitic', 'Atemayar_Qelisayer', 'Sylheti', 'Aurek-Besh', 'Tengwar', 'Oriya', 'Old_Church_Slavonic_(Cyrillic)', 'Kannada', 'ULOG', 'Avesta', 'Tibetan', 'Mongolian', 'Keble', 'Ge_ez', 'Manipuri', 'Syriac_(Serto)', 'Angelic']\n"
          ]
        }
      ]
    },
    {
      "cell_type": "markdown",
      "metadata": {
        "id": "OrDuJ8_FJKdK"
      },
      "source": [
        "# Check if the datasets are working"
      ]
    },
    {
      "cell_type": "code",
      "metadata": {
        "colab": {
          "base_uri": "https://localhost:8080/",
          "height": 307
        },
        "id": "_ot9oW_opDcW",
        "outputId": "101e1ee3-21c0-429c-a21c-9f8cf85fe64d"
      },
      "source": [
        "# Testing train Dataset\n",
        "img1,img2,are_Same=dataset_train[1]\n",
        "\n",
        "print(are_Same.item())\n",
        "print(img1.shape,'\\n',img2.shape)\n",
        "\n",
        "# convert to PIL and multiply with std and add mean to un-normalize the images for viewing purposes only\n",
        "show_img1=transforms.ToPILImage()(img1.mul_(std).add_(mean))\n",
        "show_img2=transforms.ToPILImage()(img2.mul_(std).add_(mean))\n",
        "\n",
        "print(show_img1.size,'\\n',show_img2.size)\n",
        "\n",
        "plt.subplot(121)\n",
        "plt.imshow(show_img1,cmap='gray')\n",
        "\n",
        "plt.subplot(122)\n",
        "plt.imshow(show_img2,cmap='gray')\n"
      ],
      "execution_count": 14,
      "outputs": [
        {
          "output_type": "stream",
          "name": "stdout",
          "text": [
            "0.0\n",
            "torch.Size([1, 105, 105]) \n",
            " torch.Size([1, 105, 105])\n",
            "(105, 105) \n",
            " (105, 105)\n"
          ]
        },
        {
          "output_type": "execute_result",
          "data": {
            "text/plain": [
              "<matplotlib.image.AxesImage at 0x7ff9ee71ced0>"
            ]
          },
          "metadata": {},
          "execution_count": 14
        },
        {
          "output_type": "display_data",
          "data": {
            "image/png": "[encoded data removed]",
            "text/plain": [
              "<Figure size 432x288 with 2 Axes>"
            ]
          },
          "metadata": {
            "needs_background": "light"
          }
        }
      ]
    },
    {
      "cell_type": "code",
      "metadata": {
        "colab": {
          "base_uri": "https://localhost:8080/",
          "height": 151
        },
        "id": "bns9opIniZfw",
        "outputId": "061d8cea-40f9-4fee-cac1-2cadf9a5eb2e"
      },
      "source": [
        "# Testing validation Dataset\n",
        "imgs=dataset_val[0]\n",
        "\n",
        "print(imgs.shape, imgs[0,:].shape)\n",
        "\n",
        "# data_iter=iter(dataloader_val)\n",
        "# images=data_iter.next()\n",
        "# print(images.shape) #torch.Size([16, 10, 1, 105, 105])\n",
        "\n",
        "for i in range(ways):\n",
        "  img=imgs[i,:]\n",
        "  plt.subplot(5,5,(i+1))\n",
        "  plt.imshow(transforms.ToPILImage()(img.mul_(std_val).add_(mean_val)), cmap='gray')\n"
      ],
      "execution_count": 15,
      "outputs": [
        {
          "output_type": "stream",
          "name": "stdout",
          "text": [
            "torch.Size([10, 1, 105, 105]) torch.Size([1, 105, 105])\n"
          ]
        },
        {
          "output_type": "display_data",
          "data": {
            "image/png": "[encoded data removed]",
            "text/plain": [
              "<Figure size 432x288 with 10 Axes>"
            ]
          },
          "metadata": {
            "needs_background": "light"
          }
        }
      ]
    },
    {
      "cell_type": "markdown",
      "metadata": {
        "id": "S_0aTI01kIcZ"
      },
      "source": [
        "# Training"
      ]
    },
    {
      "cell_type": "code",
      "metadata": {
        "id": "BzWYZG6nrPQi"
      },
      "source": [
        "# change to True if you are resuming(Make sure to set the path for checkpoint in the next cell)\n",
        "resume_training=False"
      ],
      "execution_count": 16,
      "outputs": []
    },
    {
      "cell_type": "code",
      "metadata": {
        "id": "R0kTpvF_UvT3"
      },
      "source": [
        "device = torch.device(\"cuda\" if torch.cuda.is_available() else \"cpu\")\n",
        "\n",
        "model=Siamese_Net().to(device)\n",
        "\n",
        "loss_function=nn.BCEWithLogitsLoss()\n",
        "optimizer=optim.Adam(model.parameters(),lr=3e-4,weight_decay=6e-5)\n",
        "\n",
        "# lr_scheduler=optim.lr_scheduler.ReduceLROnPlateau(optimizer, patience=4, verbose=True)\n",
        "# lr_scheduler=optim.lr_scheduler.ExponentialLR(optimizer, gamma=0.99, verbose=True)\n",
        "\n",
        "start_epoch=0\n",
        "epochs=80\n",
        "\n",
        "if resume_training:\n",
        "  checkpoint = torch.load('/content/drive/MyDrive/dataset/ckpts_newest_2/checkp60.pt')\n",
        "  model.load_state_dict(checkpoint['model_state_dict'])\n",
        "  optimizer.load_state_dict(checkpoint['optimizer_state_dict'])\n",
        "  start_epoch = checkpoint['epoch']\n",
        "  # loss_function = checkpoint['loss']"
      ],
      "execution_count": 17,
      "outputs": []
    },
    {
      "cell_type": "code",
      "metadata": {
        "id": "LkPGycT_ZFXM"
      },
      "source": [
        "# Train Network\n",
        "\n",
        "t_loss,accuracy=[],[]\n",
        "val_every=1\n",
        "save_every=20\n",
        "\n",
        "for epoch in range(start_epoch, epochs+1):\n",
        "  t_loss_batch=[]\n",
        "  \n",
        "  # ----------------------training---------------------------------------------\n",
        "  model.train()\n",
        "  for batch_idx, (img1, img2, isSame) in enumerate(dataloader_train):\n",
        "    # Get data to cuda if possible\n",
        "    img1, img2, isSame= img1.to(device),img2.to(device),isSame.to(device)\n",
        "\n",
        "    # forward\n",
        "    scores = model(img1, img2)\n",
        "    loss = loss_function(scores, isSame)\n",
        "    \n",
        "    # backward\n",
        "    optimizer.zero_grad()\n",
        "    loss.backward()\n",
        "\n",
        "    # update weights\n",
        "    optimizer.step()\n",
        "\n",
        "    t_loss_batch.append(loss.item())\n",
        "  \n",
        "  mean_loss=sum(t_loss_batch)/len(t_loss_batch)\n",
        "  t_loss.append(mean_loss)\n",
        "  # ------------------------lr scheduler---------------------------------------------\n",
        "  \n",
        "  # for ExponentialLR \n",
        "  # lr_scheduler.step()\n",
        "  \n",
        "  # forReduceLROnPlateau\n",
        "  # lr_scheduler.step(mean_loss)\n",
        "  \n",
        "  # -----------------------------Validation----------------------------------\n",
        "  if epoch%val_every==0:\n",
        "    model.eval()\n",
        "    with torch.no_grad():\n",
        "      batch_accuracy=[]\n",
        "      for batch_idx,images in enumerate(dataloader_val):\n",
        "        score_l,correct=[],0\n",
        "        images=images.to(device)\n",
        "        img1=images[:,0,:]\n",
        "\n",
        "        for i in range(1,ways):\n",
        "          score=torch.sigmoid(model(img1,images[:,i,:]))\n",
        "          score_l.append(score)\n",
        "\n",
        "        scores=torch.stack(score_l)\n",
        "\n",
        "        results=torch.argmax(scores,0)\n",
        "\n",
        "        for i in range(results.shape[0]):\n",
        "          if results[i,:].item()==0:\n",
        "            correct+=1\n",
        "\n",
        "        total=images.shape[0]\n",
        "        batch_accuracy.append(correct/total)\n",
        "\n",
        "      # finding the accuracy of that epoch\n",
        "      accuracy.append(sum(batch_accuracy)/len(batch_accuracy))\n",
        "    print(f'Epoch No.:{epoch} training loss:{t_loss[-1]}  validation accuracy:{accuracy[-1]*100}%')\n",
        "  \n",
        "  if epoch%save_every==0:\n",
        "    torch.save({\n",
        "            'epoch': epoch,\n",
        "            'model_state_dict': model.state_dict(),\n",
        "            'optimizer_state_dict': optimizer.state_dict(),\n",
        "            'loss': t_loss[-1],\n",
        "            }, f'/content/drive/MyDrive/dataset/ckpts_newest_2/checkp{epoch}.pt')\n",
        "    "
      ],
      "execution_count": null,
      "outputs": []
    },
    {
      "cell_type": "code",
      "metadata": {
        "id": "MhLs0V3TWG4z"
      },
      "source": [
        "# Training loss graph\n",
        "print(f'Mean Loss: {sum(t_loss)/len(t_loss):.3f}')\n",
        "plt.style.use('seaborn-whitegrid')\n",
        "\n",
        "fig = plt.figure()\n",
        "ax = plt.axes()\n",
        "ax.plot(t_loss,label='Training Loss')\n",
        "# ax.plot(v_loss,label='Validation Loss')\n",
        "ax.legend()\n",
        "ax.set_title('Training loss')\n",
        "ax.set_xlabel('Epochs')\n",
        "ax.set_ylabel('Loss')"
      ],
      "execution_count": null,
      "outputs": []
    },
    {
      "cell_type": "code",
      "metadata": {
        "id": "lYi1EigLIuAk"
      },
      "source": [
        "# Accuracy graph\n",
        "print(f'Mean Accuracy: {sum(accuracy)/len(accuracy)*100:.3f}%')\n",
        "print(max(accuracy))\n",
        "plt.style.use('seaborn-whitegrid')\n",
        "fig = plt.figure()\n",
        "ax = plt.axes()\n",
        "ax.plot(accuracy,label='Validation accuracy')\n",
        "# ax.plot(v_loss,label='Validation Loss')\n",
        "ax.legend()\n",
        "ax.set_title('Validation Accuracy')\n",
        "ax.set_xlabel('Epochs')\n",
        "ax.set_ylabel('Accuracy')"
      ],
      "execution_count": null,
      "outputs": []
    },
    {
      "cell_type": "code",
      "metadata": {
        "id": "hmpaCmVHGct2"
      },
      "source": [
        "# training accuracy for Omniglot\n",
        "\n",
        "device = torch.device(\"cuda\" if torch.cuda.is_available() else \"cpu\")\n",
        "\n",
        "model=Siamese_Net().to(device)\n",
        "checkpoint = torch.load('/content/drive/MyDrive/dataset/ckpts_newest_2/checkp80.pt')\n",
        "model.load_state_dict(checkpoint['model_state_dict'])\n",
        "\n",
        "ways=10\n",
        "\n",
        "dataset_train_acc=Face_Dataset(train_root,job='val', ways=ways,transform=transforms.Compose([\n",
        "                                                                                             transforms.Resize((105,105)),\n",
        "                                                                                             transforms.ToTensor(),\n",
        "                                                                                             transforms.Normalize([mean.item()],[std.item()])\n",
        "                                                                                             ]\n",
        "))\n",
        "\n",
        "dataloader_train_acc=DataLoader(dataset=dataset_train_acc, batch_size=batch_size)\n",
        "\n",
        "# finding accuracy\n",
        "model.eval()\n",
        "with torch.no_grad():\n",
        "  batch_accuracy=[]\n",
        "  for batch_idx,images in enumerate(dataloader_train_acc):\n",
        "    score_l,correct=[],0\n",
        "    images=images.to(device)\n",
        "    img1=images[:,0,:]\n",
        "\n",
        "    for i in range(1,ways):\n",
        "      score=torch.sigmoid(model(img1,images[:,i,:]))\n",
        "      score_l.append(score)\n",
        "\n",
        "    scores=torch.stack(score_l)\n",
        "\n",
        "    results=torch.argmax(scores,0)\n",
        "\n",
        "    for i in range(results.shape[0]):\n",
        "      if results[i,:].item()==0:\n",
        "        correct+=1\n",
        "\n",
        "    total=images.shape[0]\n",
        "    batch_accuracy.append(correct/total)\n",
        "  print(f'Training accuracy: {sum(batch_accuracy)/len(batch_accuracy)*100:.3f}%')"
      ],
      "execution_count": null,
      "outputs": []
    }
  ]
}